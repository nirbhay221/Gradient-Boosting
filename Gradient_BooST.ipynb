{
  "nbformat": 4,
  "nbformat_minor": 0,
  "metadata": {
    "colab": {
      "name": "Gradient BooST ",
      "provenance": [],
      "collapsed_sections": []
    },
    "kernelspec": {
      "name": "python3",
      "display_name": "Python 3"
    }
  },
  "cells": [
    {
      "cell_type": "code",
      "metadata": {
        "id": "RnZ56bjJHzW3"
      },
      "source": [
        "import numpy as np \n",
        "import pandas as pd\n",
        "import matplotlib.pyplot as plt \n",
        "import sklearn\n",
        "from sklearn.model_selection import train_test_split\n",
        "from sklearn.tree import DecisionTreeClassifier\n",
        "from sklearn.metrics import log_loss\n",
        "from sklearn.ensemble import GradientBoostingClassifier\n",
        "from sklearn.datasets import make_hastie_10_2"
      ],
      "execution_count": null,
      "outputs": []
    },
    {
      "cell_type": "code",
      "metadata": {
        "id": "D6oSSBX7I5HW"
      },
      "source": [
        "def sigmoid(x):\n",
        "  return 1/(1+(np.exp(-x)))"
      ],
      "execution_count": null,
      "outputs": []
    },
    {
      "cell_type": "code",
      "metadata": {
        "id": "20A19bF9JW_D"
      },
      "source": [
        "x = np.random.randn(5000,1)\n",
        "y = (x[:,0]>0)*2 -1"
      ],
      "execution_count": null,
      "outputs": []
    },
    {
      "cell_type": "code",
      "metadata": {
        "id": "_Rqr6HFRKZIQ"
      },
      "source": [
        "x_train,x_test,y_train,y_test = train_test_split(x,y,test_size = 0.5,random_state = 42)"
      ],
      "execution_count": null,
      "outputs": []
    },
    {
      "cell_type": "code",
      "metadata": {
        "id": "ZZhTiyxKNBlt"
      },
      "source": [
        "dcs = DecisionTreeClassifier(criterion = 'entropy',max_depth=1)"
      ],
      "execution_count": null,
      "outputs": []
    },
    {
      "cell_type": "code",
      "metadata": {
        "id": "LSYeAuWlNr7h",
        "outputId": "c3b174b4-9161-41a2-cc17-bcf75a9dcc66",
        "colab": {
          "base_uri": "https://localhost:8080/",
          "height": 34
        }
      },
      "source": [
        "dcs.fit(x_train,y_train)\n",
        "dcs.score(x_train,y_train)"
      ],
      "execution_count": null,
      "outputs": [
        {
          "output_type": "execute_result",
          "data": {
            "text/plain": [
              "1.0"
            ]
          },
          "metadata": {
            "tags": []
          },
          "execution_count": 15
        }
      ]
    },
    {
      "cell_type": "code",
      "metadata": {
        "id": "xkme3aRFN2CA",
        "outputId": "532d4bdc-4482-41b8-ba97-5740cc145695",
        "colab": {
          "base_uri": "https://localhost:8080/",
          "height": 34
        }
      },
      "source": [
        "clf = GradientBoostingClassifier(n_estimators= 5000,learning_rate=0.01,max_depth =3,random_state=0)\n",
        "clf.fit(x_train,y_train)\n",
        "score = clf.predict(x_test)\n",
        "scorea = clf.predict_proba(x_test)\n",
        "\n",
        "log_loss(y_test,scorea)\n"
      ],
      "execution_count": null,
      "outputs": [
        {
          "output_type": "execute_result",
          "data": {
            "text/plain": [
              "0.00031390885399099544"
            ]
          },
          "metadata": {
            "tags": []
          },
          "execution_count": 19
        }
      ]
    },
    {
      "cell_type": "code",
      "metadata": {
        "id": "KPN-4ymtPzFe",
        "outputId": "9709a322-dbee-4be6-b428-1abd72bf6c29",
        "colab": {
          "base_uri": "https://localhost:8080/",
          "height": 238
        }
      },
      "source": [
        "def compute_loss(y_true , y_pred):\n",
        "  return log_loss(y_true,sigmoid(y_pred))\n",
        "cumulative = np.array([x for x in clf.staged_decision_function(x_test)])[:,:,0]\n",
        "compute_loss(y_test,cumulative[-1,:]),compute_loss(y_test,cumulative[-2,:]),compute_loss(y_test,cumulative[-1,:]-cumulative[0,:])\n",
        "cumulative"
      ],
      "execution_count": null,
      "outputs": [
        {
          "output_type": "execute_result",
          "data": {
            "text/plain": [
              "array([[ 4.16094898e-03, -3.58416112e-02,  4.16094898e-03, ...,\n",
              "        -3.58416112e-02, -3.58416112e-02,  4.16094898e-03],\n",
              "       [ 2.41194259e-02, -5.54895421e-02,  2.41194259e-02, ...,\n",
              "        -5.54895421e-02, -5.54895421e-02,  2.41194259e-02],\n",
              "       [ 4.38811172e-02, -7.49497613e-02,  4.38811172e-02, ...,\n",
              "        -7.49497613e-02, -7.49497613e-02,  4.38811172e-02],\n",
              "       ...,\n",
              "       [ 8.05833787e+00, -8.07434324e+00,  8.05833787e+00, ...,\n",
              "        -8.07434324e+00, -8.07434324e+00,  8.05833787e+00],\n",
              "       [ 8.05833787e+00, -8.07434324e+00,  8.05833787e+00, ...,\n",
              "        -8.07434324e+00, -8.07434324e+00,  8.05833787e+00],\n",
              "       [ 8.05833787e+00, -8.07434324e+00,  8.05833787e+00, ...,\n",
              "        -8.07434324e+00, -8.07434324e+00,  8.05833787e+00]])"
            ]
          },
          "metadata": {
            "tags": []
          },
          "execution_count": 25
        }
      ]
    },
    {
      "cell_type": "code",
      "metadata": {
        "id": "oHehQhBQZ8yA",
        "outputId": "2c8c0a6f-10ec-430f-d317-969fe1890e1e",
        "colab": {
          "base_uri": "https://localhost:8080/",
          "height": 282
        }
      },
      "source": [
        "plt.plot(cumulative[:,y_test==1][:,0]),"
      ],
      "execution_count": null,
      "outputs": [
        {
          "output_type": "execute_result",
          "data": {
            "text/plain": [
              "([<matplotlib.lines.Line2D at 0x7f50372c30b8>],)"
            ]
          },
          "metadata": {
            "tags": []
          },
          "execution_count": 26
        },
        {
          "output_type": "display_data",
          "data": {
            "image/png": "[encoded data removed]",
            "text/plain": [
              "<Figure size 432x288 with 1 Axes>"
            ]
          },
          "metadata": {
            "tags": [],
            "needs_background": "light"
          }
        }
      ]
    },
    {
      "cell_type": "code",
      "metadata": {
        "id": "MtRx4SOSbw0S",
        "outputId": "1dbb729d-ffa6-462a-e28a-df245ee8fd46",
        "colab": {
          "base_uri": "https://localhost:8080/",
          "height": 85
        }
      },
      "source": [
        "clf = GradientBoostingClassifier(n_estimators = 5000,learning_rate=8,max_depth = 3,random_state= 0)\n",
        "clf.fit(x_train,y_train)\n",
        "y_probe= clf.predict_proba(x_test)\n",
        "cumulative = np.array([x for x in clf.staged_decision_function(x_test)])[:,:,0]\n",
        "\n",
        "log_loss(y_test,y_probe),compute_loss(y_test,cumulative[-1,:]),compute_loss(y_test,cumulative[-2,:]),compute_loss(y_test,cumulative[-1,:]-cumulative[0,:])"
      ],
      "execution_count": null,
      "outputs": [
        {
          "output_type": "execute_result",
          "data": {
            "text/plain": [
              "(3.10846460803843e-06,\n",
              " 3.10846460803843e-06,\n",
              " 3.0156669363591662e-06,\n",
              " 2.0896290888781537)"
            ]
          },
          "metadata": {
            "tags": []
          },
          "execution_count": 32
        }
      ]
    },
    {
      "cell_type": "code",
      "metadata": {
        "id": "UxZHhfGQd3UD",
        "outputId": "94a9bcd6-a309-4ca2-eedf-8075d50991c9",
        "colab": {
          "base_uri": "https://localhost:8080/",
          "height": 255
        }
      },
      "source": [
        "x,y= make_hastie_10_2(random_state=0)\n",
        "x,y"
      ],
      "execution_count": null,
      "outputs": [
        {
          "output_type": "execute_result",
          "data": {
            "text/plain": [
              "(array([[ 1.76405235,  0.40015721,  0.97873798, ..., -0.15135721,\n",
              "         -0.10321885,  0.4105985 ],\n",
              "        [ 0.14404357,  1.45427351,  0.76103773, ..., -0.20515826,\n",
              "          0.3130677 , -0.85409574],\n",
              "        [-2.55298982,  0.6536186 ,  0.8644362 , ..., -0.18718385,\n",
              "          1.53277921,  1.46935877],\n",
              "        ...,\n",
              "        [ 0.19986465,  0.26134578, -0.1279868 , ..., -0.51718289,\n",
              "          0.07969414,  1.01612661],\n",
              "        [-0.15167316, -1.42519962,  1.07092211, ..., -1.20676602,\n",
              "         -1.04746487,  0.0075881 ],\n",
              "        [-0.09708998,  0.78044425,  0.22108152, ...,  2.53170549,\n",
              "         -0.03572203,  0.17320019]]),\n",
              " array([ 1., -1.,  1., ..., -1., -1.,  1.]))"
            ]
          },
          "metadata": {
            "tags": []
          },
          "execution_count": 33
        }
      ]
    },
    {
      "cell_type": "code",
      "metadata": {
        "id": "bmCalC2zexz-"
      },
      "source": [
        ""
      ],
      "execution_count": null,
      "outputs": []
    }
  ]
}